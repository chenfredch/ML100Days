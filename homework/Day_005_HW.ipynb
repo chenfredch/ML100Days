{
 "cells": [
  {
   "cell_type": "markdown",
   "metadata": {
    "id": "oef8c2jr-PZY"
   },
   "source": [
    "作業目標<br>\n",
    "計算有缺失值的資料，統計量實作<br>\n",
    "作業重點<br>\n",
    "當遇到缺失值有函式可以處理，不須額外寫程式刪除<br>\n",
    "計算統計量時不能出現缺失值"
   ]
  },
  {
   "cell_type": "markdown",
   "metadata": {
    "id": "4YgL8NF4-Ru3"
   },
   "source": [
    "題目:<br>\n",
    "english_score = np.array([55,89,76,65,48,70])<br>\n",
    "math_score = np.array([60,85,60,68,np.nan,60])<br>\n",
    "chinese_score = np.array([65,90,82,72,66,77])<br>\n",
    "上3列共六位同學的英文、數學、國文成績，第一個元素代表第一位同學，舉例第一位同學英文55分、數學60分、國文65分，今天第五位同學因某原因沒來考試，導致數學成績缺值，運用上列數據回答下列問題。<br>\n",
    "1. 請計算各科成績平均、最大值、最小值、標準差，其中數學缺一筆資料可忽略?\n",
    "2. 第五位同學補考數學後成績為55，請計算補考後數學成績平均、最大值、最小值、標準差?\n",
    "3. 用補考後資料找出與國文成績相關係數最高的學科?"
   ]
  },
  {
   "cell_type": "code",
   "execution_count": 3,
   "metadata": {
    "executionInfo": {
     "elapsed": 617,
     "status": "ok",
     "timestamp": 1609854566856,
     "user": {
      "displayName": "献竤黃",
      "photoUrl": "",
      "userId": "07529243043474362942"
     },
     "user_tz": -480
    },
    "id": "QwsKU8qO-RK7"
   },
   "outputs": [],
   "source": [
    "import numpy as np"
   ]
  },
  {
   "cell_type": "code",
   "execution_count": 4,
   "metadata": {
    "executionInfo": {
     "elapsed": 1016,
     "status": "ok",
     "timestamp": 1609854567261,
     "user": {
      "displayName": "献竤黃",
      "photoUrl": "",
      "userId": "07529243043474362942"
     },
     "user_tz": -480
    },
    "id": "B5BqDQAe_czh"
   },
   "outputs": [],
   "source": [
    "english_score = np.array([55,89,76,65,48,70])\n",
    "math_score = np.array([60,85,60,68,np.nan,60])\n",
    "chinese_score = np.array([65,90,82,72,66,77])"
   ]
  },
  {
   "cell_type": "code",
   "execution_count": 21,
   "metadata": {
    "executionInfo": {
     "elapsed": 1005,
     "status": "ok",
     "timestamp": 1609854567262,
     "user": {
      "displayName": "献竤黃",
      "photoUrl": "",
      "userId": "07529243043474362942"
     },
     "user_tz": -480
    },
    "id": "K3tUA6u9aI3N"
   },
   "outputs": [
    {
     "name": "stdout",
     "output_type": "stream",
     "text": [
      "Average English Score: 67.16666666666667\n",
      "Maximum English Score: 89\n",
      "Minimum English Score: 48\n",
      "Std English Score: 13.433995020924426\n",
      "Average Math Score: 66.6\n",
      "Maximum Math Score: 85.0\n",
      "Minimum Math Score: 60.0\n",
      "Std Math Score: 9.707728879609279\n",
      "Average Chinese Score: 75.33333333333333\n",
      "Maximum Chinese Score: 90\n",
      "Minimum Chinese Score: 65\n",
      "Std Chinese Score: 8.825468196582484\n"
     ]
    }
   ],
   "source": [
    "#1. 請計算各科成績平均、最大值、最小值、標準差，其中數學缺一筆資料可忽略?\n",
    "english_average_score = np.mean(english_score)\n",
    "english_max_score     = np.max(english_score)\n",
    "english_min_score     = np.min(english_score)\n",
    "english_std_score     = np.std(english_score)\n",
    "print('Average English Score:', english_average_score)\n",
    "print('Maximum English Score:', english_max_score)\n",
    "print('Minimum English Score:', english_min_score)\n",
    "print('Std English Score:', english_std_score)\n",
    "\n",
    "math_average_score    = np.nanmean(math_score)\n",
    "math_max_score        = np.nanmax(math_score)\n",
    "math_min_score        = np.nanmin(math_score)\n",
    "math_std_score        = np.nanstd(math_score)\n",
    "print('Average Math Score:', math_average_score)\n",
    "print('Maximum Math Score:', math_max_score)\n",
    "print('Minimum Math Score:', math_min_score)\n",
    "print('Std Math Score:', math_std_score)\n",
    "\n",
    "chinese_average_score    = np.nanmean(chinese_score)\n",
    "chinese_max_score        = np.nanmax(chinese_score)\n",
    "chinese_min_score        = np.nanmin(chinese_score)\n",
    "chinese_std_score        = np.nanstd(chinese_score)\n",
    "print('Average Chinese Score:', chinese_average_score)\n",
    "print('Maximum Chinese Score:', chinese_max_score)\n",
    "print('Minimum Chinese Score:', chinese_min_score)\n",
    "print('Std Chinese Score:', chinese_std_score)"
   ]
  },
  {
   "cell_type": "code",
   "execution_count": 23,
   "metadata": {
    "executionInfo": {
     "elapsed": 996,
     "status": "ok",
     "timestamp": 1609854567262,
     "user": {
      "displayName": "献竤黃",
      "photoUrl": "",
      "userId": "07529243043474362942"
     },
     "user_tz": -480
    },
    "id": "mXjDzvSrbLlf"
   },
   "outputs": [
    {
     "name": "stdout",
     "output_type": "stream",
     "text": [
      "Average Math Score: 64.66666666666667\n",
      "Maximum Math Score: 85.0\n",
      "Minimum Math Score: 55.0\n",
      "Std Math Score: 9.860132971832694\n"
     ]
    }
   ],
   "source": [
    "#2. 第五位同學補考數學後成績為55，請計算補考後數學成績平均、最大值、最小值、標準差?\n",
    "math_score[4] = 55\n",
    "math_average_score    = np.nanmean(math_score)\n",
    "math_max_score        = np.nanmax(math_score)\n",
    "math_min_score        = np.nanmin(math_score)\n",
    "math_std_score        = np.nanstd(math_score)\n",
    "print('Average Math Score:', math_average_score)\n",
    "print('Maximum Math Score:', math_max_score)\n",
    "print('Minimum Math Score:', math_min_score)\n",
    "print('Std Math Score:', math_std_score)"
   ]
  },
  {
   "cell_type": "code",
   "execution_count": 28,
   "metadata": {
    "executionInfo": {
     "elapsed": 989,
     "status": "ok",
     "timestamp": 1609854567264,
     "user": {
      "displayName": "献竤黃",
      "photoUrl": "",
      "userId": "07529243043474362942"
     },
     "user_tz": -480
    },
    "id": "SaGolKx0cKoU"
   },
   "outputs": [
    {
     "name": "stdout",
     "output_type": "stream",
     "text": [
      "Correlation Coeff. between Chinese and Math: [[1.         0.74056803]\n",
      " [0.74056803 1.        ]]\n",
      "Correlation Coeff. betwenp Chinese and English: [[1.         0.97792828]\n",
      " [0.97792828 1.        ]]\n"
     ]
    }
   ],
   "source": [
    "#3. 用補考後資料找出與國文成績相關係數最高的學科?\n",
    "# 英文與國文成績相關係數最高\n",
    "print('Correlation Coeff. between Chinese and Math:',np.corrcoef(chinese_score, math_score))\n",
    "print('Correlation Coeff. betwenp Chinese and English:',np.corrcoef(chinese_score, english_score))"
   ]
  },
  {
   "cell_type": "code",
   "execution_count": 5,
   "metadata": {
    "executionInfo": {
     "elapsed": 987,
     "status": "ok",
     "timestamp": 1609854567264,
     "user": {
      "displayName": "献竤黃",
      "photoUrl": "",
      "userId": "07529243043474362942"
     },
     "user_tz": -480
    },
    "id": "fTNlLZ9Pzyiy"
   },
   "outputs": [],
   "source": []
  }
 ],
 "metadata": {
  "colab": {
   "authorship_tag": "ABX9TyPtywwDR7TsGGEOMGYLDT5h",
   "collapsed_sections": [],
   "name": "作業Hong題目.ipynb",
   "provenance": []
  },
  "kernelspec": {
   "display_name": "Python 3",
   "language": "python",
   "name": "python3"
  },
  "language_info": {
   "codemirror_mode": {
    "name": "ipython",
    "version": 3
   },
   "file_extension": ".py",
   "mimetype": "text/x-python",
   "name": "python",
   "nbconvert_exporter": "python",
   "pygments_lexer": "ipython3",
   "version": "3.8.5"
  }
 },
 "nbformat": 4,
 "nbformat_minor": 1
}
